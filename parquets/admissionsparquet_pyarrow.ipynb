{
 "cells": [
  {
   "cell_type": "code",
   "execution_count": 1,
   "id": "e8c7a9f0",
   "metadata": {},
   "outputs": [],
   "source": [
    "import pandas as pd\n",
    "import pyarrow as pa\n",
    "import pyarrow.parquet as pq"
   ]
  },
  {
   "cell_type": "code",
   "execution_count": 2,
   "id": "c6f7d4de",
   "metadata": {},
   "outputs": [],
   "source": [
    "df = pd.read_parquet(\"C:/Users/user/Downloads/BigData/parquets/ADMISSIONS.parquet\")"
   ]
  },
  {
   "cell_type": "code",
   "execution_count": 3,
   "id": "baf4086d",
   "metadata": {},
   "outputs": [],
   "source": [
    "sc=pq.read_schema(\"C:/Users/user/Downloads/BigData/parquets/ADMISSIONS.parquet\")"
   ]
  },
  {
   "cell_type": "code",
   "execution_count": 4,
   "id": "9fbba8c6",
   "metadata": {},
   "outputs": [
    {
     "data": {
      "text/plain": [
       "row_id: int64\n",
       "subject_id: int64\n",
       "hadm_id: int64\n",
       "admittime: timestamp[ns]\n",
       "dischtime: timestamp[ns]\n",
       "deathtime: timestamp[ns]\n",
       "admission_type: dictionary<values=string, indices=int32, ordered=0>\n",
       "admission_location: dictionary<values=string, indices=int32, ordered=0>\n",
       "discharge_location: dictionary<values=string, indices=int32, ordered=0>\n",
       "insurance: dictionary<values=string, indices=int32, ordered=0>\n",
       "language: dictionary<values=string, indices=int32, ordered=0>\n",
       "religion: dictionary<values=string, indices=int32, ordered=0>\n",
       "marital_status: dictionary<values=string, indices=int32, ordered=0>\n",
       "ethnicity: dictionary<values=string, indices=int32, ordered=0>\n",
       "edregtime: timestamp[ns]\n",
       "edouttime: timestamp[ns]\n",
       "diagnosis: string\n",
       "hospital_expire_flag: bool\n",
       "has_chartevents_data: bool\n",
       "los_days_int: int64\n",
       "died_in_hospital: bool\n",
       "admit_date: timestamp[ns]\n",
       "discharge_date: timestamp[ns]"
      ]
     },
     "execution_count": 4,
     "metadata": {},
     "output_type": "execute_result"
    }
   ],
   "source": [
    "sc"
   ]
  },
  {
   "cell_type": "code",
   "execution_count": 5,
   "id": "602f8baf",
   "metadata": {},
   "outputs": [],
   "source": [
    "\n",
    "\n",
    "table = pq.read_table(\"C:/Users/user/Downloads/BigData/parquets/ADMISSIONS.parquet\")\n",
    "\n",
    "\n",
    "schema = pa.schema([\n",
    "    pa.field('row_id', pa.int64()),\n",
    "    pa.field('subject_id', pa.int64()),\n",
    "    pa.field('hadm_id', pa.int64()),\n",
    "    pa.field('admittime', pa.timestamp('ns')),\n",
    "    pa.field('dischtime', pa.timestamp('ns')),\n",
    "    pa.field('deathtime', pa.timestamp('ns')),\n",
    "    pa.field('admission_type', pa.dictionary(pa.int8(), pa.string())),\n",
    "    pa.field('admission_location', pa.dictionary(pa.int8(), pa.string())),\n",
    "    pa.field('discharge_location', pa.dictionary(pa.int8(), pa.string())),\n",
    "    pa.field('insurance', pa.dictionary(pa.int8(), pa.string())),\n",
    "    pa.field('language', pa.dictionary(pa.int8(), pa.string())),\n",
    "    pa.field('religion', pa.dictionary(pa.int8(), pa.string())),\n",
    "    pa.field('marital_status', pa.dictionary(pa.int8(), pa.string())),\n",
    "    pa.field('ethnicity', pa.dictionary(pa.int8(), pa.string())),\n",
    "    pa.field('edregtime', pa.timestamp('ns')),\n",
    "    pa.field('edouttime', pa.timestamp('ns')),\n",
    "    pa.field('diagnosis', pa.string()),\n",
    "    pa.field('hospital_expire_flag', pa.bool_()),\n",
    "    pa.field('has_chartevents_data', pa.bool_()),\n",
    "    pa.field('los_days_int', pa.int64()),\n",
    "    pa.field('died_in_hospital', pa.bool_()),\n",
    "    pa.field('admit_date', pa.timestamp('ns')),\n",
    "    pa.field('discharge_date', pa.timestamp('ns'))\n",
    "])\n",
    "\n",
    "pq.write_table(\n",
    "    table.cast(schema),\n",
    "    \"C:/Users/user/Downloads/BigData/parquets/ADMISSIONS.parquet\",\n",
    "    version='2.6',\n",
    "    use_dictionary=True,\n",
    "    compression='SNAPPY', \n",
    "    flavor='spark'\n",
    ")"
   ]
  },
  {
   "cell_type": "code",
   "execution_count": 6,
   "id": "b6542999",
   "metadata": {},
   "outputs": [
    {
     "data": {
      "text/plain": [
       "row_id: int64\n",
       "subject_id: int64\n",
       "hadm_id: int64\n",
       "admittime: timestamp[ns]\n",
       "dischtime: timestamp[ns]\n",
       "deathtime: timestamp[ns]\n",
       "admission_type: dictionary<values=string, indices=int32, ordered=0>\n",
       "admission_location: dictionary<values=string, indices=int32, ordered=0>\n",
       "discharge_location: dictionary<values=string, indices=int32, ordered=0>\n",
       "insurance: dictionary<values=string, indices=int32, ordered=0>\n",
       "language: dictionary<values=string, indices=int32, ordered=0>\n",
       "religion: dictionary<values=string, indices=int32, ordered=0>\n",
       "marital_status: dictionary<values=string, indices=int32, ordered=0>\n",
       "ethnicity: dictionary<values=string, indices=int32, ordered=0>\n",
       "edregtime: timestamp[ns]\n",
       "edouttime: timestamp[ns]\n",
       "diagnosis: string\n",
       "hospital_expire_flag: bool\n",
       "has_chartevents_data: bool\n",
       "los_days_int: int64\n",
       "died_in_hospital: bool\n",
       "admit_date: timestamp[ns]\n",
       "discharge_date: timestamp[ns]"
      ]
     },
     "execution_count": 6,
     "metadata": {},
     "output_type": "execute_result"
    }
   ],
   "source": [
    "sc"
   ]
  }
 ],
 "metadata": {
  "kernelspec": {
   "display_name": "Python 3 (ipykernel)",
   "language": "python",
   "name": "python3"
  },
  "language_info": {
   "codemirror_mode": {
    "name": "ipython",
    "version": 3
   },
   "file_extension": ".py",
   "mimetype": "text/x-python",
   "name": "python",
   "nbconvert_exporter": "python",
   "pygments_lexer": "ipython3",
   "version": "3.11.7"
  }
 },
 "nbformat": 4,
 "nbformat_minor": 5
}
